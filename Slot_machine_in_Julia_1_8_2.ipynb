{
  "nbformat": 4,
  "nbformat_minor": 0,
  "metadata": {
    "colab": {
      "provenance": []
    },
    "kernelspec": {
      "display_name": "Julia",
      "language": "julia",
      "name": "julia"
    },
    "language_info": {
      "file_extension": ".jl",
      "mimetype": "application/julia",
      "name": "julia"
    },
    "gpuClass": "standard"
  },
  "cells": [
    {
      "cell_type": "markdown",
      "metadata": {
        "id": "tQ1r1bbb0yBv"
      },
      "source": [
        "# <img src=\"https://github.com/JuliaLang/julia-logo-graphics/raw/master/images/julia-logo-color.png\" height=\"100\" /> _Colab Notebook Template_\n",
        "\n",
        "## Instructions\n",
        "1. Work on a copy of this notebook: _File_ > _Save a copy in Drive_ (you will need a Google account). Alternatively, you can download the notebook using _File_ > _Download .ipynb_, then upload it to [Colab](https://colab.research.google.com/).\n",
        "2. If you need a GPU: _Runtime_ > _Change runtime type_ > _Harware accelerator_ = _GPU_.\n",
        "3. Execute the following cell (click on it and press Ctrl+Enter) to install Julia, IJulia and other packages (if needed, update `JULIA_VERSION` and the other parameters). This takes a couple of minutes.\n",
        "4. Reload this page (press Ctrl+R, or ⌘+R, or the F5 key) and continue to the next section.\n",
        "\n",
        "_Notes_:\n",
        "* If your Colab Runtime gets reset (e.g., due to inactivity), repeat steps 2, 3 and 4.\n",
        "* After installation, if you want to change the Julia version or activate/deactivate the GPU, you will need to reset the Runtime: _Runtime_ > _Factory reset runtime_ and repeat steps 3 and 4."
      ]
    },
    {
      "cell_type": "code",
      "metadata": {
        "id": "GIeFXS0F0zww",
        "colab": {
          "base_uri": "https://localhost:8080/",
          "height": 104
        },
        "outputId": "a80ea840-9451-4609-f044-268a80e96f80"
      },
      "source": [
        "%%shell\n",
        "set -e\n",
        "\n",
        "#---------------------------------------------------#\n",
        "JULIA_VERSION=\"1.8.2\" # any version ≥ 0.7.0\n",
        "JULIA_PACKAGES=\"IJulia BenchmarkTools\"\n",
        "JULIA_PACKAGES_IF_GPU=\"CUDA\" # or CuArrays for older Julia versions\n",
        "JULIA_NUM_THREADS=2\n",
        "#---------------------------------------------------#\n",
        "\n",
        "if [ -z `which julia` ]; then\n",
        "  # Install Julia\n",
        "  JULIA_VER=`cut -d '.' -f -2 <<< \"$JULIA_VERSION\"`\n",
        "  echo \"Installing Julia $JULIA_VERSION on the current Colab Runtime...\"\n",
        "  BASE_URL=\"https://julialang-s3.julialang.org/bin/linux/x64\"\n",
        "  URL=\"$BASE_URL/$JULIA_VER/julia-$JULIA_VERSION-linux-x86_64.tar.gz\"\n",
        "  wget -nv $URL -O /tmp/julia.tar.gz # -nv means \"not verbose\"\n",
        "  tar -x -f /tmp/julia.tar.gz -C /usr/local --strip-components 1\n",
        "  rm /tmp/julia.tar.gz\n",
        "\n",
        "  # Install Packages\n",
        "  nvidia-smi -L &> /dev/null && export GPU=1 || export GPU=0\n",
        "  if [ $GPU -eq 1 ]; then\n",
        "    JULIA_PACKAGES=\"$JULIA_PACKAGES $JULIA_PACKAGES_IF_GPU\"\n",
        "  fi\n",
        "  for PKG in `echo $JULIA_PACKAGES`; do\n",
        "    echo \"Installing Julia package $PKG...\"\n",
        "    julia -e 'using Pkg; pkg\"add '$PKG'; precompile;\"' &> /dev/null\n",
        "  done\n",
        "\n",
        "  # Install kernel and rename it to \"julia\"\n",
        "  echo \"Installing IJulia kernel...\"\n",
        "  julia -e 'using IJulia; IJulia.installkernel(\"julia\", env=Dict(\n",
        "      \"JULIA_NUM_THREADS\"=>\"'\"$JULIA_NUM_THREADS\"'\"))'\n",
        "  KERNEL_DIR=`julia -e \"using IJulia; print(IJulia.kerneldir())\"`\n",
        "  KERNEL_NAME=`ls -d \"$KERNEL_DIR\"/julia*`\n",
        "  mv -f $KERNEL_NAME \"$KERNEL_DIR\"/julia\n",
        "\n",
        "  echo ''\n",
        "  echo \"Successfully installed `julia -v`!\"\n",
        "  echo \"Please reload this page (press Ctrl+R, ⌘+R, or the F5 key) then\"\n",
        "  echo \"jump to the 'Checking the Installation' section.\"\n",
        "fi"
      ],
      "execution_count": null,
      "outputs": [
        {
          "output_type": "display_data",
          "data": {
            "text/plain": [
              "  Unrecognized magic \u001b[36m%%shell\u001b[39m.\n",
              "\n",
              "  Julia does not use the IPython \u001b[36m%magic\u001b[39m syntax. To interact with the IJulia kernel, use\n",
              "  \u001b[36mIJulia.somefunction(...)\u001b[39m, for example. Julia macros, string macros, and functions can be used to\n",
              "  accomplish most of the other functionalities of IPython magics."
            ],
            "text/markdown": "Unrecognized magic `%%shell`.\n\nJulia does not use the IPython `%magic` syntax.   To interact with the IJulia kernel, use `IJulia.somefunction(...)`, for example.  Julia macros, string macros, and functions can be used to accomplish most of the other functionalities of IPython magics.\n",
            "text/latex": "Unrecognized magic \\texttt{\\%\\%shell}.\n\nJulia does not use the IPython \\texttt{\\%magic} syntax.   To interact with the IJulia kernel, use \\texttt{IJulia.somefunction(...)}, for example.  Julia macros, string macros, and functions can be used to accomplish most of the other functionalities of IPython magics.\n\n"
          },
          "metadata": {}
        }
      ]
    },
    {
      "cell_type": "markdown",
      "metadata": {
        "id": "-OS3Ac017T1i"
      },
      "source": [
        "# Checking the Installation\n",
        "The `versioninfo()` function should print your Julia version and some other info about the system:"
      ]
    },
    {
      "cell_type": "code",
      "metadata": {
        "id": "EEzvvzCl1i0F",
        "colab": {
          "base_uri": "https://localhost:8080/"
        },
        "outputId": "669b0501-5a1b-46dc-acbf-b7acae472cf9"
      },
      "source": [
        "versioninfo()"
      ],
      "execution_count": null,
      "outputs": [
        {
          "output_type": "stream",
          "name": "stdout",
          "text": [
            "Julia Version 1.8.2\n",
            "Commit 36034abf260 (2022-09-29 15:21 UTC)\n",
            "Platform Info:\n",
            "  OS: Linux (x86_64-linux-gnu)\n",
            "  CPU: 2 × Intel(R) Xeon(R) CPU @ 2.20GHz\n",
            "  WORD_SIZE: 64\n",
            "  LIBM: libopenlibm\n",
            "  LLVM: libLLVM-13.0.1 (ORCJIT, broadwell)\n",
            "  Threads: 2 on 2 virtual cores\n",
            "Environment:\n",
            "  LD_LIBRARY_PATH = /usr/local/nvidia/lib:/usr/local/nvidia/lib64\n",
            "  JULIA_NUM_THREADS = 2\n"
          ]
        }
      ]
    },
    {
      "cell_type": "code",
      "source": [
        "using BenchmarkTools\n",
        "\n",
        "M = rand(2^11, 2^11)\n",
        "\n",
        "@btime $M * $M;"
      ],
      "metadata": {
        "colab": {
          "base_uri": "https://localhost:8080/"
        },
        "id": "YjM_qq54lCcs",
        "outputId": "93bd073d-8853-46be-d54f-65c7f1bf4d30"
      },
      "execution_count": null,
      "outputs": [
        {
          "output_type": "stream",
          "name": "stdout",
          "text": [
            "  465.359 ms (2 allocations: 32.00 MiB)\n"
          ]
        }
      ]
    },
    {
      "cell_type": "code",
      "metadata": {
        "id": "XciCcMAJOT3_",
        "colab": {
          "base_uri": "https://localhost:8080/"
        },
        "outputId": "56f8a755-0799-4243-9277-7dea10fad14a"
      },
      "source": [
        "try\n",
        "    using CUDA\n",
        "catch\n",
        "    println(\"No GPU found.\")\n",
        "else\n",
        "    run(`nvidia-smi`)\n",
        "    # Create a new random matrix directly on the GPU:\n",
        "    M_on_gpu = CUDA.CURAND.rand(2^11, 2^11)\n",
        "    @btime $M_on_gpu * $M_on_gpu; nothing\n",
        "end"
      ],
      "execution_count": null,
      "outputs": [
        {
          "output_type": "stream",
          "name": "stdout",
          "text": [
            "No GPU found.\n"
          ]
        }
      ]
    },
    {
      "cell_type": "markdown",
      "metadata": {
        "id": "8RC1QNNqk6h1"
      },
      "source": [
        "# Need Help?\n",
        "\n",
        "* Learning: https://julialang.org/learning/\n",
        "* Documentation: https://docs.julialang.org/\n",
        "* Questions & Discussions:\n",
        "  * https://discourse.julialang.org/\n",
        "  * http://julialang.slack.com/\n",
        "  * https://stackoverflow.com/questions/tagged/julia\n",
        "\n",
        "If you ever ask for help or file an issue about Julia, you should generally provide the output of `versioninfo()`."
      ]
    },
    {
      "cell_type": "code",
      "source": [
        "using Random\n",
        "\n",
        "# Global Constants\n",
        "LINES_MAX = 3\n",
        "BET_MAX = 100\n",
        "BET_MIN = 1\n",
        "\n",
        "ROWS = 3\n",
        "COLS = 3\n",
        "\n",
        "# Directly using Unicode emojis as symbols on reels\n",
        "heart = \"❤️\"\n",
        "flamingo = \"🦩\"\n",
        "diamond = \"💎\"\n",
        "pizza = \"🍕\"\n",
        "\n",
        "# Frequency of each symbols on each line\n",
        "\n",
        "symbol_count = Dict(\n",
        "    heart => 2,\n",
        "    flamingo => 4,\n",
        "    diamond => 6,\n",
        "    pizza => 8\n",
        ")\n",
        "\n",
        "symbol_value = Dict(\n",
        "    heart => 5,\n",
        "    flamingo => 4,\n",
        "    diamond => 3,\n",
        "    pizza => 2\n",
        ")\n",
        "\n",
        "# Check if the player has won\n",
        "function check_if_won(columns, lines, bet, values)\n",
        "    winnings = 0\n",
        "    winning_lines = Int[]\n",
        "    for line in 1:lines\n",
        "        symbol = columns[1][line]\n",
        "        is_winning_line = true\n",
        "        for column in 2:length(columns)\n",
        "            symbol_to_check = columns[column][line]\n",
        "            if symbol != symbol_to_check\n",
        "                is_winning_line = false\n",
        "                break\n",
        "            end\n",
        "        end\n",
        "        if is_winning_line\n",
        "            winnings += values[symbol] * bet\n",
        "            push!(winning_lines, line)\n",
        "        end\n",
        "    end\n",
        "    return winnings, winning_lines\n",
        "end\n",
        "\n",
        "# Get a spin for the slot machine\n",
        "function get_slot_machine_spin(rows, cols, symbols)\n",
        "    all_symbols = []\n",
        "    for (symbol, count) in symbols\n",
        "        for _ in 1:count\n",
        "            push!(all_symbols, symbol)\n",
        "        end\n",
        "    end\n",
        "\n",
        "    columns = [[] for _ in 1:cols]\n",
        "    for col in 1:cols\n",
        "        current_symbols = copy(all_symbols)\n",
        "        for _ in 1:rows\n",
        "            value = rand(current_symbols)\n",
        "            deleteat!(current_symbols, findfirst(isequal(value), current_symbols))\n",
        "            push!(columns[col], value)\n",
        "        end\n",
        "    end\n",
        "    return columns\n",
        "end\n",
        "\n",
        "# Printing the slot machine's current state properly\n",
        "function print_slot_machine(columns)\n",
        "    for row in 1:length(columns[1])\n",
        "        for i in 1:length(columns)\n",
        "            column = columns[i]\n",
        "            if i != length(columns)\n",
        "                print(column[row], \" | \")\n",
        "            else\n",
        "                print(column[row])\n",
        "            end\n",
        "        end\n",
        "        println()\n",
        "    end\n",
        "end\n",
        "\n",
        "# Function to deposit money\n",
        "function deposit()\n",
        "    while true\n",
        "        print(\"Please enter the amount you would like to deposit? \\$ \")\n",
        "        amount = readline()\n",
        "        if all(isdigit, amount)\n",
        "            amount = parse(Int64, amount)\n",
        "            if amount > 0\n",
        "                return amount\n",
        "            else\n",
        "                println(\"Enter amount greater than zero.\")\n",
        "            end\n",
        "        else\n",
        "            println(\"Please enter a number.\")\n",
        "        end\n",
        "    end\n",
        "end\n",
        "\n",
        "# Function to select the number of lines\n",
        "function number_of_lines()\n",
        "    while true\n",
        "        println(\"Please enter the number of lines you would like to bet on between (1 - \", string(LINES_MAX), \") \")\n",
        "        lines = readline()\n",
        "        if all(isdigit, lines)\n",
        "            lines = parse(Int64, lines)\n",
        "            if 1 <= lines <= LINES_MAX\n",
        "                return lines\n",
        "            else\n",
        "                println(\"Enter a valid number of lines\")\n",
        "            end\n",
        "        else\n",
        "            println(\"Please enter a number.\")\n",
        "        end\n",
        "    end\n",
        "end\n",
        "\n",
        "# Function to select the bet amount\n",
        "function bet_amount()\n",
        "    while true\n",
        "        print(\"How much would you like to bet on each line? \\$ \")\n",
        "        bet = readline()\n",
        "        if all(isdigit, bet)\n",
        "            bet = parse(Int64, bet)\n",
        "            if BET_MIN <= bet <= BET_MAX\n",
        "                return bet\n",
        "            else\n",
        "                println(\"Enter a valid number between (\", string(BET_MIN), \" - \", string(BET_MAX), \") \")\n",
        "            end\n",
        "        else\n",
        "            println(\"Please enter a number\")\n",
        "        end\n",
        "    end\n",
        "end\n",
        "\n",
        "# Main function to control the slot machine game\n",
        "function main()\n",
        "    balance = deposit()\n",
        "    while true\n",
        "        lines = number_of_lines()\n",
        "        bet = bet_amount()\n",
        "        total_bet = bet * lines\n",
        "        if total_bet > balance\n",
        "            println(\"You have insufficient balance. Your total balance is \\$\", balance)\n",
        "        else\n",
        "            println(\"You are betting \\$\", bet, \" on \", lines, \" lines. Your total bet is \\$\", total_bet)\n",
        "            balance -= total_bet\n",
        "\n",
        "            # Generate slot machine spin and print\n",
        "            columns = get_slot_machine_spin(ROWS, COLS, symbol_count)\n",
        "            print_slot_machine(columns)\n",
        "\n",
        "            # Checking winnings\n",
        "            winnings, winning_lines = check_if_won(columns, lines, bet, symbol_value)\n",
        "            balance += winnings\n",
        "            if winnings > 0\n",
        "                println(\"Congratulations! You won \\$\", winnings, \" on lines \", winning_lines)\n",
        "            else\n",
        "                println(\"Sorry, No luck this time.\")\n",
        "            end\n",
        "\n",
        "            println(\"Your current balance is \\$\", balance)\n",
        "\n",
        "            # Checking if player wants to play again\n",
        "            print(\"Would you like to play again? (y/n) \")\n",
        "            response = readline()\n",
        "            if response != \"y\"\n",
        "                break\n",
        "            end\n",
        "        end\n",
        "    end\n",
        "end\n",
        "\n",
        "main()\n",
        "\n"
      ],
      "metadata": {
        "id": "3Q0fgBzij6xh",
        "outputId": "6cdc5727-91d0-4631-cb79-693f9a125fea",
        "colab": {
          "base_uri": "https://localhost:8080/"
        }
      },
      "execution_count": null,
      "outputs": [
        {
          "output_type": "stream",
          "name": "stdout",
          "text": [
            "Please enter the amount you would like to deposit? $ stdin> 1000\n",
            "Please enter the number of lines you would like to bet on between (1 - 3) \n",
            "stdin> 3\n",
            "How much would you like to bet on each line? $ stdin> 100\n",
            "You are betting $100 on 3 lines. Your total bet is $300\n",
            "❤️ | 🦩 | 💎\n",
            "💎 | ❤️ | 🍕\n",
            "💎 | 🍕 | 🍕\n",
            "Sorry, No luck this time.\n",
            "Your current balance is $700\n",
            "Would you like to play again? (y/n) stdin> y\n",
            "Please enter the number of lines you would like to bet on between (1 - 3) \n",
            "stdin> 3\n",
            "How much would you like to bet on each line? $ stdin> 50\n",
            "You are betting $50 on 3 lines. Your total bet is $150\n",
            "🍕 | 🍕 | 🍕\n",
            "🍕 | 🦩 | 🦩\n",
            "🍕 | 🍕 | 🦩\n",
            "Congratulations! You won $100 on lines [1]\n",
            "Your current balance is $650\n",
            "Would you like to play again? (y/n) stdin> y\n",
            "Please enter the number of lines you would like to bet on between (1 - 3) \n",
            "stdin> 2\n",
            "How much would you like to bet on each line? $ stdin> 100\n",
            "You are betting $100 on 2 lines. Your total bet is $200\n",
            "🦩 | 🍕 | 🍕\n",
            "🦩 | 🍕 | 💎\n",
            "🦩 | 💎 | 🍕\n",
            "Sorry, No luck this time.\n",
            "Your current balance is $450\n",
            "Would you like to play again? (y/n) stdin> y\n",
            "Please enter the number of lines you would like to bet on between (1 - 3) \n",
            "stdin> 1\n",
            "How much would you like to bet on each line? $ stdin> 50\n",
            "You are betting $50 on 1 lines. Your total bet is $50\n",
            "🍕 | 🍕 | 🍕\n",
            "🍕 | ❤️ | ❤️\n",
            "🍕 | 💎 | 🦩\n",
            "Congratulations! You won $100 on lines [1]\n",
            "Your current balance is $500\n",
            "Would you like to play again? (y/n) "
          ]
        }
      ]
    },
    {
      "cell_type": "markdown",
      "metadata": {
        "id": "2UMidUQB03vJ"
      },
      "source": [
        "Add new code cells by clicking the `+ Code` button (or _Insert_ > _Code cell_).\n",
        "\n",
        "Have fun!\n",
        "\n",
        "<img src=\"https://raw.githubusercontent.com/JuliaLang/julia-logo-graphics/master/images/julia-logo-mask.png\" height=\"100\" />"
      ]
    }
  ]
}